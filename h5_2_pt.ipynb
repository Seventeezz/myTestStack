{
 "cells": [
  {
   "cell_type": "markdown",
   "metadata": {},
   "source": [
    "## tensorflow转torch\n",
    "- 安装python3.7     \n",
    "- 安装tensorflow1.13.1      \n",
    "- 运行下面代码      \n",
    "这里先运行tensorflow的环境"
   ]
  },
  {
   "cell_type": "code",
   "execution_count": 9,
   "metadata": {},
   "outputs": [
    {
     "ename": "OSError",
     "evalue": "Unable to open file (file signature not found)",
     "output_type": "error",
     "traceback": [
      "\u001b[1;31m---------------------------------------------------------------------------\u001b[0m",
      "\u001b[1;31mOSError\u001b[0m                                   Traceback (most recent call last)",
      "\u001b[1;32m~\\AppData\\Local\\Temp\\ipykernel_31816\\4073131839.py\u001b[0m in \u001b[0;36m<module>\u001b[1;34m\u001b[0m\n\u001b[0;32m      1\u001b[0m \u001b[1;32mimport\u001b[0m \u001b[0mh5py\u001b[0m\u001b[1;33m\u001b[0m\u001b[1;33m\u001b[0m\u001b[0m\n\u001b[1;32m----> 2\u001b[1;33m \u001b[1;32mwith\u001b[0m \u001b[0mh5py\u001b[0m\u001b[1;33m.\u001b[0m\u001b[0mFile\u001b[0m\u001b[1;33m(\u001b[0m\u001b[1;34mr'E:\\Pystack\\PyStack\\data\\Models\\turn\\weights.leaf_nodes.hdf5'\u001b[0m\u001b[1;33m,\u001b[0m \u001b[1;34m'r'\u001b[0m\u001b[1;33m)\u001b[0m \u001b[1;32mas\u001b[0m \u001b[0mf\u001b[0m\u001b[1;33m:\u001b[0m\u001b[1;33m\u001b[0m\u001b[1;33m\u001b[0m\u001b[0m\n\u001b[0m\u001b[0;32m      3\u001b[0m     \u001b[0mprint\u001b[0m\u001b[1;33m(\u001b[0m\u001b[0mlist\u001b[0m\u001b[1;33m(\u001b[0m\u001b[0mf\u001b[0m\u001b[1;33m.\u001b[0m\u001b[0mkeys\u001b[0m\u001b[1;33m(\u001b[0m\u001b[1;33m)\u001b[0m\u001b[1;33m)\u001b[0m\u001b[1;33m)\u001b[0m\u001b[1;33m\u001b[0m\u001b[1;33m\u001b[0m\u001b[0m\n",
      "\u001b[1;32md:\\Anacoda3\\envs\\pystack37\\lib\\site-packages\\h5py\\_hl\\files.py\u001b[0m in \u001b[0;36m__init__\u001b[1;34m(self, name, mode, driver, libver, userblock_size, swmr, rdcc_nslots, rdcc_nbytes, rdcc_w0, track_order, fs_strategy, fs_persist, fs_threshold, fs_page_size, page_buf_size, min_meta_keep, min_raw_keep, locking, alignment_threshold, alignment_interval, meta_block_size, **kwds)\u001b[0m\n\u001b[0;32m    565\u001b[0m                                  \u001b[0mfs_persist\u001b[0m\u001b[1;33m=\u001b[0m\u001b[0mfs_persist\u001b[0m\u001b[1;33m,\u001b[0m \u001b[0mfs_threshold\u001b[0m\u001b[1;33m=\u001b[0m\u001b[0mfs_threshold\u001b[0m\u001b[1;33m,\u001b[0m\u001b[1;33m\u001b[0m\u001b[1;33m\u001b[0m\u001b[0m\n\u001b[0;32m    566\u001b[0m                                  fs_page_size=fs_page_size)\n\u001b[1;32m--> 567\u001b[1;33m                 \u001b[0mfid\u001b[0m \u001b[1;33m=\u001b[0m \u001b[0mmake_fid\u001b[0m\u001b[1;33m(\u001b[0m\u001b[0mname\u001b[0m\u001b[1;33m,\u001b[0m \u001b[0mmode\u001b[0m\u001b[1;33m,\u001b[0m \u001b[0muserblock_size\u001b[0m\u001b[1;33m,\u001b[0m \u001b[0mfapl\u001b[0m\u001b[1;33m,\u001b[0m \u001b[0mfcpl\u001b[0m\u001b[1;33m,\u001b[0m \u001b[0mswmr\u001b[0m\u001b[1;33m=\u001b[0m\u001b[0mswmr\u001b[0m\u001b[1;33m)\u001b[0m\u001b[1;33m\u001b[0m\u001b[1;33m\u001b[0m\u001b[0m\n\u001b[0m\u001b[0;32m    568\u001b[0m \u001b[1;33m\u001b[0m\u001b[0m\n\u001b[0;32m    569\u001b[0m             \u001b[1;32mif\u001b[0m \u001b[0misinstance\u001b[0m\u001b[1;33m(\u001b[0m\u001b[0mlibver\u001b[0m\u001b[1;33m,\u001b[0m \u001b[0mtuple\u001b[0m\u001b[1;33m)\u001b[0m\u001b[1;33m:\u001b[0m\u001b[1;33m\u001b[0m\u001b[1;33m\u001b[0m\u001b[0m\n",
      "\u001b[1;32md:\\Anacoda3\\envs\\pystack37\\lib\\site-packages\\h5py\\_hl\\files.py\u001b[0m in \u001b[0;36mmake_fid\u001b[1;34m(name, mode, userblock_size, fapl, fcpl, swmr)\u001b[0m\n\u001b[0;32m    229\u001b[0m         \u001b[1;32mif\u001b[0m \u001b[0mswmr\u001b[0m \u001b[1;32mand\u001b[0m \u001b[0mswmr_support\u001b[0m\u001b[1;33m:\u001b[0m\u001b[1;33m\u001b[0m\u001b[1;33m\u001b[0m\u001b[0m\n\u001b[0;32m    230\u001b[0m             \u001b[0mflags\u001b[0m \u001b[1;33m|=\u001b[0m \u001b[0mh5f\u001b[0m\u001b[1;33m.\u001b[0m\u001b[0mACC_SWMR_READ\u001b[0m\u001b[1;33m\u001b[0m\u001b[1;33m\u001b[0m\u001b[0m\n\u001b[1;32m--> 231\u001b[1;33m         \u001b[0mfid\u001b[0m \u001b[1;33m=\u001b[0m \u001b[0mh5f\u001b[0m\u001b[1;33m.\u001b[0m\u001b[0mopen\u001b[0m\u001b[1;33m(\u001b[0m\u001b[0mname\u001b[0m\u001b[1;33m,\u001b[0m \u001b[0mflags\u001b[0m\u001b[1;33m,\u001b[0m \u001b[0mfapl\u001b[0m\u001b[1;33m=\u001b[0m\u001b[0mfapl\u001b[0m\u001b[1;33m)\u001b[0m\u001b[1;33m\u001b[0m\u001b[1;33m\u001b[0m\u001b[0m\n\u001b[0m\u001b[0;32m    232\u001b[0m     \u001b[1;32melif\u001b[0m \u001b[0mmode\u001b[0m \u001b[1;33m==\u001b[0m \u001b[1;34m'r+'\u001b[0m\u001b[1;33m:\u001b[0m\u001b[1;33m\u001b[0m\u001b[1;33m\u001b[0m\u001b[0m\n\u001b[0;32m    233\u001b[0m         \u001b[0mfid\u001b[0m \u001b[1;33m=\u001b[0m \u001b[0mh5f\u001b[0m\u001b[1;33m.\u001b[0m\u001b[0mopen\u001b[0m\u001b[1;33m(\u001b[0m\u001b[0mname\u001b[0m\u001b[1;33m,\u001b[0m \u001b[0mh5f\u001b[0m\u001b[1;33m.\u001b[0m\u001b[0mACC_RDWR\u001b[0m\u001b[1;33m,\u001b[0m \u001b[0mfapl\u001b[0m\u001b[1;33m=\u001b[0m\u001b[0mfapl\u001b[0m\u001b[1;33m)\u001b[0m\u001b[1;33m\u001b[0m\u001b[1;33m\u001b[0m\u001b[0m\n",
      "\u001b[1;32mh5py\\_objects.pyx\u001b[0m in \u001b[0;36mh5py._objects.with_phil.wrapper\u001b[1;34m()\u001b[0m\n",
      "\u001b[1;32mh5py\\_objects.pyx\u001b[0m in \u001b[0;36mh5py._objects.with_phil.wrapper\u001b[1;34m()\u001b[0m\n",
      "\u001b[1;32mh5py\\h5f.pyx\u001b[0m in \u001b[0;36mh5py.h5f.open\u001b[1;34m()\u001b[0m\n",
      "\u001b[1;31mOSError\u001b[0m: Unable to open file (file signature not found)"
     ]
    }
   ],
   "source": [
    "import h5py\n",
    "with h5py.File(r'E:\\Pystack\\PyStack\\data\\Models\\turn\\weights.leaf_nodes.hdf5', 'r') as f:\n",
    "    print(list(f.keys()))"
   ]
  },
  {
   "cell_type": "code",
   "execution_count": 7,
   "metadata": {},
   "outputs": [
    {
     "ename": "OSError",
     "evalue": "Unable to open file (file signature not found)",
     "output_type": "error",
     "traceback": [
      "\u001b[1;31m---------------------------------------------------------------------------\u001b[0m",
      "\u001b[1;31mOSError\u001b[0m                                   Traceback (most recent call last)",
      "\u001b[1;32m~\\AppData\\Local\\Temp\\ipykernel_31816\\1873185962.py\u001b[0m in \u001b[0;36m<module>\u001b[1;34m\u001b[0m\n\u001b[0;32m     28\u001b[0m \u001b[1;33m\u001b[0m\u001b[0m\n\u001b[0;32m     29\u001b[0m \u001b[0mmodel_path\u001b[0m \u001b[1;33m=\u001b[0m \u001b[1;34mr'E:\\Pystack\\PyStack\\data\\Models\\turn\\weights.leaf_nodes.hdf5'\u001b[0m\u001b[1;33m\u001b[0m\u001b[1;33m\u001b[0m\u001b[0m\n\u001b[1;32m---> 30\u001b[1;33m \u001b[0mmodel\u001b[0m \u001b[1;33m=\u001b[0m \u001b[0mload_model\u001b[0m\u001b[1;33m(\u001b[0m\u001b[0mmodel_path\u001b[0m\u001b[1;33m,\u001b[0m \u001b[0mcustom_objects\u001b[0m\u001b[1;33m=\u001b[0m\u001b[0mcustom_objects\u001b[0m\u001b[1;33m,\u001b[0m \u001b[0mcompile\u001b[0m\u001b[1;33m=\u001b[0m\u001b[1;32mFalse\u001b[0m\u001b[1;33m)\u001b[0m\u001b[1;33m\u001b[0m\u001b[1;33m\u001b[0m\u001b[0m\n\u001b[0m\u001b[0;32m     31\u001b[0m \u001b[1;33m\u001b[0m\u001b[0m\n\u001b[0;32m     32\u001b[0m \u001b[1;31m# 提取模型中的每层权重\u001b[0m\u001b[1;33m\u001b[0m\u001b[1;33m\u001b[0m\u001b[1;33m\u001b[0m\u001b[0m\n",
      "\u001b[1;32md:\\Anacoda3\\envs\\pystack37\\lib\\site-packages\\tensorflow\\python\\keras\\engine\\saving.py\u001b[0m in \u001b[0;36mload_model\u001b[1;34m(filepath, custom_objects, compile)\u001b[0m\n\u001b[0;32m    221\u001b[0m   \u001b[0mopened_new_file\u001b[0m \u001b[1;33m=\u001b[0m \u001b[1;32mnot\u001b[0m \u001b[0misinstance\u001b[0m\u001b[1;33m(\u001b[0m\u001b[0mfilepath\u001b[0m\u001b[1;33m,\u001b[0m \u001b[0mh5py\u001b[0m\u001b[1;33m.\u001b[0m\u001b[0mFile\u001b[0m\u001b[1;33m)\u001b[0m\u001b[1;33m\u001b[0m\u001b[1;33m\u001b[0m\u001b[0m\n\u001b[0;32m    222\u001b[0m   \u001b[1;32mif\u001b[0m \u001b[0mopened_new_file\u001b[0m\u001b[1;33m:\u001b[0m\u001b[1;33m\u001b[0m\u001b[1;33m\u001b[0m\u001b[0m\n\u001b[1;32m--> 223\u001b[1;33m     \u001b[0mf\u001b[0m \u001b[1;33m=\u001b[0m \u001b[0mh5py\u001b[0m\u001b[1;33m.\u001b[0m\u001b[0mFile\u001b[0m\u001b[1;33m(\u001b[0m\u001b[0mfilepath\u001b[0m\u001b[1;33m,\u001b[0m \u001b[0mmode\u001b[0m\u001b[1;33m=\u001b[0m\u001b[1;34m'r'\u001b[0m\u001b[1;33m)\u001b[0m\u001b[1;33m\u001b[0m\u001b[1;33m\u001b[0m\u001b[0m\n\u001b[0m\u001b[0;32m    224\u001b[0m   \u001b[1;32melse\u001b[0m\u001b[1;33m:\u001b[0m\u001b[1;33m\u001b[0m\u001b[1;33m\u001b[0m\u001b[0m\n\u001b[0;32m    225\u001b[0m     \u001b[0mf\u001b[0m \u001b[1;33m=\u001b[0m \u001b[0mfilepath\u001b[0m\u001b[1;33m\u001b[0m\u001b[1;33m\u001b[0m\u001b[0m\n",
      "\u001b[1;32md:\\Anacoda3\\envs\\pystack37\\lib\\site-packages\\h5py\\_hl\\files.py\u001b[0m in \u001b[0;36m__init__\u001b[1;34m(self, name, mode, driver, libver, userblock_size, swmr, rdcc_nslots, rdcc_nbytes, rdcc_w0, track_order, fs_strategy, fs_persist, fs_threshold, fs_page_size, page_buf_size, min_meta_keep, min_raw_keep, locking, alignment_threshold, alignment_interval, meta_block_size, **kwds)\u001b[0m\n\u001b[0;32m    565\u001b[0m                                  \u001b[0mfs_persist\u001b[0m\u001b[1;33m=\u001b[0m\u001b[0mfs_persist\u001b[0m\u001b[1;33m,\u001b[0m \u001b[0mfs_threshold\u001b[0m\u001b[1;33m=\u001b[0m\u001b[0mfs_threshold\u001b[0m\u001b[1;33m,\u001b[0m\u001b[1;33m\u001b[0m\u001b[1;33m\u001b[0m\u001b[0m\n\u001b[0;32m    566\u001b[0m                                  fs_page_size=fs_page_size)\n\u001b[1;32m--> 567\u001b[1;33m                 \u001b[0mfid\u001b[0m \u001b[1;33m=\u001b[0m \u001b[0mmake_fid\u001b[0m\u001b[1;33m(\u001b[0m\u001b[0mname\u001b[0m\u001b[1;33m,\u001b[0m \u001b[0mmode\u001b[0m\u001b[1;33m,\u001b[0m \u001b[0muserblock_size\u001b[0m\u001b[1;33m,\u001b[0m \u001b[0mfapl\u001b[0m\u001b[1;33m,\u001b[0m \u001b[0mfcpl\u001b[0m\u001b[1;33m,\u001b[0m \u001b[0mswmr\u001b[0m\u001b[1;33m=\u001b[0m\u001b[0mswmr\u001b[0m\u001b[1;33m)\u001b[0m\u001b[1;33m\u001b[0m\u001b[1;33m\u001b[0m\u001b[0m\n\u001b[0m\u001b[0;32m    568\u001b[0m \u001b[1;33m\u001b[0m\u001b[0m\n\u001b[0;32m    569\u001b[0m             \u001b[1;32mif\u001b[0m \u001b[0misinstance\u001b[0m\u001b[1;33m(\u001b[0m\u001b[0mlibver\u001b[0m\u001b[1;33m,\u001b[0m \u001b[0mtuple\u001b[0m\u001b[1;33m)\u001b[0m\u001b[1;33m:\u001b[0m\u001b[1;33m\u001b[0m\u001b[1;33m\u001b[0m\u001b[0m\n",
      "\u001b[1;32md:\\Anacoda3\\envs\\pystack37\\lib\\site-packages\\h5py\\_hl\\files.py\u001b[0m in \u001b[0;36mmake_fid\u001b[1;34m(name, mode, userblock_size, fapl, fcpl, swmr)\u001b[0m\n\u001b[0;32m    229\u001b[0m         \u001b[1;32mif\u001b[0m \u001b[0mswmr\u001b[0m \u001b[1;32mand\u001b[0m \u001b[0mswmr_support\u001b[0m\u001b[1;33m:\u001b[0m\u001b[1;33m\u001b[0m\u001b[1;33m\u001b[0m\u001b[0m\n\u001b[0;32m    230\u001b[0m             \u001b[0mflags\u001b[0m \u001b[1;33m|=\u001b[0m \u001b[0mh5f\u001b[0m\u001b[1;33m.\u001b[0m\u001b[0mACC_SWMR_READ\u001b[0m\u001b[1;33m\u001b[0m\u001b[1;33m\u001b[0m\u001b[0m\n\u001b[1;32m--> 231\u001b[1;33m         \u001b[0mfid\u001b[0m \u001b[1;33m=\u001b[0m \u001b[0mh5f\u001b[0m\u001b[1;33m.\u001b[0m\u001b[0mopen\u001b[0m\u001b[1;33m(\u001b[0m\u001b[0mname\u001b[0m\u001b[1;33m,\u001b[0m \u001b[0mflags\u001b[0m\u001b[1;33m,\u001b[0m \u001b[0mfapl\u001b[0m\u001b[1;33m=\u001b[0m\u001b[0mfapl\u001b[0m\u001b[1;33m)\u001b[0m\u001b[1;33m\u001b[0m\u001b[1;33m\u001b[0m\u001b[0m\n\u001b[0m\u001b[0;32m    232\u001b[0m     \u001b[1;32melif\u001b[0m \u001b[0mmode\u001b[0m \u001b[1;33m==\u001b[0m \u001b[1;34m'r+'\u001b[0m\u001b[1;33m:\u001b[0m\u001b[1;33m\u001b[0m\u001b[1;33m\u001b[0m\u001b[0m\n\u001b[0;32m    233\u001b[0m         \u001b[0mfid\u001b[0m \u001b[1;33m=\u001b[0m \u001b[0mh5f\u001b[0m\u001b[1;33m.\u001b[0m\u001b[0mopen\u001b[0m\u001b[1;33m(\u001b[0m\u001b[0mname\u001b[0m\u001b[1;33m,\u001b[0m \u001b[0mh5f\u001b[0m\u001b[1;33m.\u001b[0m\u001b[0mACC_RDWR\u001b[0m\u001b[1;33m,\u001b[0m \u001b[0mfapl\u001b[0m\u001b[1;33m=\u001b[0m\u001b[0mfapl\u001b[0m\u001b[1;33m)\u001b[0m\u001b[1;33m\u001b[0m\u001b[1;33m\u001b[0m\u001b[0m\n",
      "\u001b[1;32mh5py\\_objects.pyx\u001b[0m in \u001b[0;36mh5py._objects.with_phil.wrapper\u001b[1;34m()\u001b[0m\n",
      "\u001b[1;32mh5py\\_objects.pyx\u001b[0m in \u001b[0;36mh5py._objects.with_phil.wrapper\u001b[1;34m()\u001b[0m\n",
      "\u001b[1;32mh5py\\h5f.pyx\u001b[0m in \u001b[0;36mh5py.h5f.open\u001b[1;34m()\u001b[0m\n",
      "\u001b[1;31mOSError\u001b[0m: Unable to open file (file signature not found)"
     ]
    }
   ],
   "source": [
    "import tensorflow as tf\n",
    "import numpy as np\n",
    "from tensorflow.keras.models import load_model\n",
    "import sys \n",
    "\n",
    "sys.path.append(r'E:\\Pystack\\PyStack\\src')\n",
    "\n",
    "def BasicHuberLoss(delta=1.0):\n",
    "\tdef loss(y_true, y_pred):\n",
    "\t\treturn tf.compat.v1.losses.huber_loss(y_true, y_pred, delta=delta)\n",
    "\treturn loss\n",
    "\n",
    "def masked_huber_loss(y_true, y_pred):\n",
    "\tloss = tf.compat.v1.losses.huber_loss(y_true, y_pred, delta=1.0)\n",
    "\tzero = tf.constant(0.0, dtype=tf.float32)\n",
    "\tbatch_size = tf.cast(tf.shape(y_true)[0], dtype=tf.float32)\n",
    "\tfeature_size = tf.cast(tf.shape(y_true)[1], dtype=tf.float32)\n",
    "\tmask = tf.where(tf.equal(y_true, zero), tf.zeros_like(y_true), tf.ones_like(y_true))\n",
    "\tloss_multiplier = (batch_size * feature_size) / tf.reduce_sum(mask)\n",
    "\treturn loss * loss_multiplier\n",
    "\n",
    "# ✅ 加入 tf 到 custom_objects 里\n",
    "custom_objects = {\n",
    "\t'tf': tf,\n",
    "\t'loss': BasicHuberLoss(delta=1.0),\n",
    "\t'masked_huber_loss': masked_huber_loss\n",
    "}\n",
    "\n",
    "model_path = r'E:\\Pystack\\PyStack\\data\\Models\\turn\\weights.leaf_nodes.hdf5'\n",
    "model = load_model(model_path, custom_objects=custom_objects, compile=False)\n",
    "\n",
    "# 提取模型中的每层权重\n",
    "npz_dict = {}\n",
    "for i, layer in enumerate(model.layers):\n",
    "    w = layer.get_weights()\n",
    "    if w:\n",
    "        for idx, weight in enumerate(w):\n",
    "            npz_dict[f\"{layer.name}_{idx}\"] = weight\n",
    "        print(f\"Saved weights for layer: {layer.name}\")\n",
    "\n",
    "np.savez('keras_weights_leaf_nodes.npz', **npz_dict)\n",
    "print(\"Weights successfully saved to keras_weights_leaf_nodes.npz\")\n"
   ]
  },
  {
   "cell_type": "code",
   "execution_count": 12,
   "metadata": {},
   "outputs": [
    {
     "name": "stdout",
     "output_type": "stream",
     "text": [
      "__________________________________________________________________________________________________\n",
      "Layer (type)                    Output Shape         Param #     Connected to                     \n",
      "==================================================================================================\n",
      "input (InputLayer)              (None, 2722)         0                                            \n",
      "__________________________________________________________________________________________________\n",
      "dense_0 (Dense)                 (None, 500)          1361500     input[0][0]                      \n",
      "__________________________________________________________________________________________________\n",
      "dropout_0 (Dropout)             (None, 500)          0           dense_0[0][0]                    \n",
      "__________________________________________________________________________________________________\n",
      "batch_norm_0 (BatchNormalizatio (None, 500)          2000        dropout_0[0][0]                  \n",
      "__________________________________________________________________________________________________\n",
      "relu_0 (PReLU)                  (None, 500)          500         batch_norm_0[0][0]               \n",
      "__________________________________________________________________________________________________\n",
      "dense_1 (Dense)                 (None, 500)          250500      relu_0[0][0]                     \n",
      "__________________________________________________________________________________________________\n",
      "dropout_1 (Dropout)             (None, 500)          0           dense_1[0][0]                    \n",
      "__________________________________________________________________________________________________\n",
      "batch_norm_1 (BatchNormalizatio (None, 500)          2000        dropout_1[0][0]                  \n",
      "__________________________________________________________________________________________________\n",
      "relu_1 (PReLU)                  (None, 500)          500         batch_norm_1[0][0]               \n",
      "__________________________________________________________________________________________________\n",
      "dense_2 (Dense)                 (None, 500)          250500      relu_1[0][0]                     \n",
      "__________________________________________________________________________________________________\n",
      "dropout_2 (Dropout)             (None, 500)          0           dense_2[0][0]                    \n",
      "__________________________________________________________________________________________________\n",
      "batch_norm_2 (BatchNormalizatio (None, 500)          2000        dropout_2[0][0]                  \n",
      "__________________________________________________________________________________________________\n",
      "relu_2 (PReLU)                  (None, 500)          500         batch_norm_2[0][0]               \n",
      "__________________________________________________________________________________________________\n",
      "dense_3 (Dense)                 (None, 500)          250500      relu_2[0][0]                     \n",
      "__________________________________________________________________________________________________\n",
      "dropout_3 (Dropout)             (None, 500)          0           dense_3[0][0]                    \n",
      "__________________________________________________________________________________________________\n",
      "batch_norm_3 (BatchNormalizatio (None, 500)          2000        dropout_3[0][0]                  \n",
      "__________________________________________________________________________________________________\n",
      "relu_3 (PReLU)                  (None, 500)          500         batch_norm_3[0][0]               \n",
      "__________________________________________________________________________________________________\n",
      "input_ranges (Lambda)           (None, 2652)         0           input[0][0]                      \n",
      "__________________________________________________________________________________________________\n",
      "feed_forward_output (Dense)     (None, 2652)         1328652     relu_3[0][0]                     \n",
      "__________________________________________________________________________________________________\n",
      "mask (Lambda)                   (None, 2652)         0           input_ranges[0][0]               \n",
      "__________________________________________________________________________________________________\n",
      "masked_output (Multiply)        (None, 2652)         0           feed_forward_output[0][0]        \n",
      "                                                                 mask[0][0]                       \n",
      "__________________________________________________________________________________________________\n",
      "estimated_values (Dot)          (None, 1)            0           masked_output[0][0]              \n",
      "                                                                 input_ranges[0][0]               \n",
      "__________________________________________________________________________________________________\n",
      "division_by_2 (Lambda)          (None, 1)            0           estimated_values[0][0]           \n",
      "__________________________________________________________________________________________________\n",
      "zero_sum_output (Subtract)      (None, 2652)         0           masked_output[0][0]              \n",
      "                                                                 division_by_2[0][0]              \n",
      "==================================================================================================\n",
      "Total params: 3,451,652\n",
      "Trainable params: 3,447,652\n",
      "Non-trainable params: 4,000\n",
      "__________________________________________________________________________________________________\n"
     ]
    }
   ],
   "source": [
    "model.summary()"
   ]
  },
  {
   "cell_type": "code",
   "execution_count": 2,
   "metadata": {},
   "outputs": [
    {
     "name": "stdout",
     "output_type": "stream",
     "text": [
      "['dense_0_0', 'dense_0_1', 'batch_norm_0_0', 'batch_norm_0_1', 'batch_norm_0_2', 'batch_norm_0_3', 'relu_0_0', 'dense_1_0', 'dense_1_1', 'batch_norm_1_0', 'batch_norm_1_1', 'batch_norm_1_2', 'batch_norm_1_3', 'relu_1_0', 'dense_2_0', 'dense_2_1', 'batch_norm_2_0', 'batch_norm_2_1', 'batch_norm_2_2', 'batch_norm_2_3', 'relu_2_0', 'dense_3_0', 'dense_3_1', 'batch_norm_3_0', 'batch_norm_3_1', 'batch_norm_3_2', 'batch_norm_3_3', 'relu_3_0', 'feed_forward_output_0', 'feed_forward_output_1']\n"
     ]
    }
   ],
   "source": [
    "import numpy as np \n",
    "weights = np.load(r\"E:\\Pystack\\PyStack\\data\\Models\\river\\keras_weights_root_nodes.npz\")\n",
    "print(weights.files)\n",
    "# print(weights['feed_forward_output_0'].shape)  # 原始权重 shape\n",
    "# print(weights['feed_forward_output_1'].shape)  # 偏置 shape"
   ]
  },
  {
   "cell_type": "code",
   "execution_count": 3,
   "metadata": {},
   "outputs": [
    {
     "name": "stderr",
     "output_type": "stream",
     "text": [
      "d:\\Anacoda3\\envs\\torch\\lib\\site-packages\\tqdm\\auto.py:22: TqdmWarning: IProgress not found. Please update jupyter and ipywidgets. See https://ipywidgets.readthedocs.io/en/stable/user_install.html\n",
      "  from .autonotebook import tqdm as notebook_tqdm\n"
     ]
    }
   ],
   "source": [
    "import torch\n",
    "import torch.nn as nn\n",
    "import torch.nn.functional as F\n",
    "\n",
    "class ValueNN(nn.Module):\n",
    "    def __init__(self, input_size, output_size, num_neurons_list, dropout_rate=0.1):\n",
    "        super(ValueNN, self).__init__()\n",
    "        self.output_size = output_size\n",
    "        self.num_layers = len(num_neurons_list)\n",
    "\n",
    "        layers = []\n",
    "        in_features = input_size\n",
    "        for i, neurons in enumerate(num_neurons_list):\n",
    "            layers.append(nn.Linear(in_features, neurons))\n",
    "            layers.append(nn.Dropout(dropout_rate))\n",
    "            layers.append(nn.BatchNorm1d(neurons))\n",
    "            layers.append(nn.PReLU(num_parameters=neurons))\n",
    "            in_features = neurons\n",
    "        self.ff_layers = nn.Sequential(*layers)\n",
    "\n",
    "        # 最后一层输出\n",
    "        self.feed_forward_output = nn.Linear(in_features, output_size)\n",
    "\n",
    "    def forward(self, x):\n",
    "        # x: [batch_size, input_size]\n",
    "        # 取输入前 output_size 维度作为 ranges\n",
    "        ranges = x[:, :self.output_size]  # [batch, output_size]\n",
    "\n",
    "        # mask: ranges > 0 => 1 else 0\n",
    "        mask = (ranges > 0).float()\n",
    "\n",
    "        # feed forward\n",
    "        ff_out = self.ff_layers(x)  # [batch, last_layer_size]\n",
    "        ff_out = self.feed_forward_output(ff_out)  # [batch, output_size]\n",
    "\n",
    "        # masked_output = ff_out * mask\n",
    "        masked_output = ff_out * mask\n",
    "\n",
    "        # estimated_values = dot product along output_size dim: sum(masked_output * ranges, dim=1, keepdim=True)\n",
    "        estimated_values = torch.sum(masked_output * ranges, dim=1, keepdim=True)\n",
    "\n",
    "        # division_by_2\n",
    "        division_by_2 = estimated_values / 2.0\n",
    "\n",
    "        # zero_sum_output = masked_output - division_by_2 (广播 subtraction)\n",
    "        zero_sum_output = masked_output - division_by_2\n",
    "\n",
    "        return zero_sum_output"
   ]
  },
  {
   "cell_type": "code",
   "execution_count": 7,
   "metadata": {},
   "outputs": [
    {
     "name": "stdout",
     "output_type": "stream",
     "text": [
      "All weights loaded successfully.\n"
     ]
    }
   ],
   "source": [
    "import numpy as np\n",
    "import torch\n",
    "\n",
    "def load_weights_from_keras_npz(model, npz_path):\n",
    "    weights = np.load(npz_path)\n",
    "\n",
    "    for i in range(4):  # 4 个隐藏层\n",
    "        w = torch.tensor(weights[f'dense_{i}_0'].T)\n",
    "        b = torch.tensor(weights[f'dense_{i}_1'])\n",
    "        # ff_layers 中每层4个module，线性层是第4*i\n",
    "        model.ff_layers[4*i].weight.data.copy_(w)\n",
    "        model.ff_layers[4*i].bias.data.copy_(b)\n",
    "\n",
    "        gamma = torch.tensor(weights[f'batch_norm_{i}_0'])\n",
    "        beta = torch.tensor(weights[f'batch_norm_{i}_1'])\n",
    "        running_mean = torch.tensor(weights[f'batch_norm_{i}_2'])\n",
    "        running_var = torch.tensor(weights[f'batch_norm_{i}_3'])\n",
    "        bn_layer = model.ff_layers[4*i + 2]\n",
    "        bn_layer.weight.data.copy_(gamma)\n",
    "        bn_layer.bias.data.copy_(beta)\n",
    "        bn_layer.running_mean.data.copy_(running_mean)\n",
    "        bn_layer.running_var.data.copy_(running_var)\n",
    "\n",
    "        prelu_weight = torch.tensor(weights[f'relu_{i}_0'])\n",
    "        prelu_layer = model.ff_layers[4*i + 3]\n",
    "        prelu_layer.weight.data.copy_(prelu_weight)\n",
    "\n",
    "    # 载入最后一层（单独定义）\n",
    "    w = torch.tensor(weights['feed_forward_output_0'].T)\n",
    "    b = torch.tensor(weights['feed_forward_output_1'])\n",
    "    model.feed_forward_output.weight.data.copy_(w)\n",
    "    model.feed_forward_output.bias.data.copy_(b)\n",
    "\n",
    "    print(\"All weights loaded successfully.\")\n",
    "\n",
    "\n",
    "# 用法示例\n",
    "model = ValueNN(input_size=2722, output_size=2652, num_neurons_list=[500, 500, 500, 500])\n",
    "load_weights_from_keras_npz(model, r\"E:\\Pystack\\PyStack\\data\\Models\\turn\\keras_weights_root_nodes.npz\")\n"
   ]
  },
  {
   "cell_type": "code",
   "execution_count": 8,
   "metadata": {},
   "outputs": [],
   "source": [
    "torch.save(model.state_dict(), 'keras_weights_root_nodes.pth')\n"
   ]
  }
 ],
 "metadata": {
  "kernelspec": {
   "display_name": "torch",
   "language": "python",
   "name": "python3"
  },
  "language_info": {
   "codemirror_mode": {
    "name": "ipython",
    "version": 3
   },
   "file_extension": ".py",
   "mimetype": "text/x-python",
   "name": "python",
   "nbconvert_exporter": "python",
   "pygments_lexer": "ipython3",
   "version": "3.8.13"
  }
 },
 "nbformat": 4,
 "nbformat_minor": 2
}
